{
 "cells": [
  {
   "cell_type": "code",
   "execution_count": 5,
   "metadata": {},
   "outputs": [
    {
     "data": {
      "text/html": [
       "<style>.container { width:80% !important; }</style>"
      ],
      "text/plain": [
       "<IPython.core.display.HTML object>"
      ]
     },
     "metadata": {},
     "output_type": "display_data"
    }
   ],
   "source": [
    "from IPython.core.display import display, HTML\n",
    "display(HTML(\"<style>.container { width:80% !important; }</style>\"))"
   ]
  },
  {
   "cell_type": "code",
   "execution_count": 6,
   "metadata": {},
   "outputs": [],
   "source": [
    "import numpy as np\n",
    "import matplotlib.pyplot as plt\n",
    "import torch"
   ]
  },
  {
   "cell_type": "code",
   "execution_count": 7,
   "metadata": {},
   "outputs": [],
   "source": [
    "from config import *\n",
    "from anatomy import *\n",
    "from renderer import *"
   ]
  },
  {
   "cell_type": "code",
   "execution_count": 10,
   "metadata": {},
   "outputs": [],
   "source": [
    "config = Config(np.array([[0.3,0.6]]), TYPE=0, NUM_HEART_BEATS=2.0, NUM_SDFS=2)\n",
    "body = Body(config, [Organ(config,[0.6,0.6],0.2,0.2,'const','const2'),\n",
    "                     Organ(config,[0.2,0.2],0.1,0.1,'const','const2')])"
   ]
  },
  {
   "cell_type": "code",
   "execution_count": 11,
   "metadata": {},
   "outputs": [],
   "source": [
    "def get_pretraining_sdfs(config):\n",
    "    \n",
    "    pretraining_sdfs = np.zeros((config.IMAGE_RESOLUTION,config.IMAGE_RESOLUTION,config.TOTAL_CLICKS,config.NUM_SDFS))\n",
    "    for i in range(config.NUM_SDFS):\n",
    "        cfg = Config(np.array([[np.random.rand()]]), config.TYPE, config.NUM_HEART_BEATS, 1)\n",
    "        organ = Organ(cfg, [0.5,0.5], 0.1, 0.1, 'const', 'const2')\n",
    "        \n",
    "        sdf = SDFGt(cfg, organ)\n",
    "        all_thetas = np.linspace(0., config.MAX_THETA, config.TOTAL_CLICKS)\n",
    "        for j in range(config.TOTAL_CLICKS):\n",
    "            sdf(all_thetas[j],False)"
   ]
  },
  {
   "cell_type": "code",
   "execution_count": null,
   "metadata": {},
   "outputs": [],
   "source": []
  }
 ],
 "metadata": {
  "kernelspec": {
   "display_name": "Python 3",
   "language": "python",
   "name": "python3"
  },
  "language_info": {
   "codemirror_mode": {
    "name": "ipython",
    "version": 3
   },
   "file_extension": ".py",
   "mimetype": "text/x-python",
   "name": "python",
   "nbconvert_exporter": "python",
   "pygments_lexer": "ipython3",
   "version": "3.7.3"
  }
 },
 "nbformat": 4,
 "nbformat_minor": 2
}
