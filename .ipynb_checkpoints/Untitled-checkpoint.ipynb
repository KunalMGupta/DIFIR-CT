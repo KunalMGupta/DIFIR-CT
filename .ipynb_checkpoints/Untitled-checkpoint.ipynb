{
 "cells": [
  {
   "cell_type": "code",
   "execution_count": 1,
   "metadata": {},
   "outputs": [
    {
     "data": {
      "text/html": [
       "<style>.container { width:80% !important; }</style>"
      ],
      "text/plain": [
       "<IPython.core.display.HTML object>"
      ]
     },
     "metadata": {},
     "output_type": "display_data"
    }
   ],
   "source": [
    "from IPython.core.display import display, HTML\n",
    "display(HTML(\"<style>.container { width:80% !important; }</style>\"))"
   ]
  },
  {
   "cell_type": "code",
   "execution_count": 1,
   "metadata": {},
   "outputs": [],
   "source": [
    "import cv2\n",
    "import numpy as np\n",
    "import matplotlib.pyplot as plt\n",
    "import torch\n",
    "from skimage.restoration import (denoise_tv_chambolle, denoise_bilateral,\n",
    "                                 denoise_wavelet, estimate_sigma)\n",
    "import warnings\n",
    "from torch import optim\n",
    "from torch.optim.lr_scheduler import StepLR\n",
    "from sklearn.mixture import GaussianMixture\n",
    "from copy import deepcopy\n",
    "\n",
    "from config import *\n",
    "from anatomy import *\n",
    "from renderer import *\n",
    "from siren import *\n",
    "from tqdm import tqdm"
   ]
  },
  {
   "cell_type": "code",
   "execution_count": 2,
   "metadata": {},
   "outputs": [],
   "source": [
    "config = Config(np.array([[0.5]]), TYPE=0, NUM_HEART_BEATS=2.0, NUM_SDFS=1)\n",
    "body = Body(config, [Organ(config,[0.6,0.6],0.2,0.2,'pseudo_heart','const2')])\n",
    "# body = Body(config, [Organ(config,[0.6,0.6],0.2,0.2,'pseudo_heart','const2'),\n",
    "#                      Organ(config,[0.3,0.3],0.1,0.1,'simple_sin','const2')])\n",
    "\n",
    "# body = Body(config, [Organ(config,[0.6,0.6],0.2,0.2,'pseudo_heart','const2'),\n",
    "#                      Organ(config,[0.3,0.3],0.1,0.1,'const','const2'),\n",
    "#                      Organ(config,[0.2,0.7],0.1,0.1,'simple_sin','const2')])\n",
    "\n",
    "# config = Config(np.array([[0.5]]), TYPE=0, NUM_HEART_BEATS=2.0, NUM_SDFS=1)\n",
    "# body = Body(config, [Organ(config,[0.6,0.6],0.2,0.2,'pseudo_heart','const2')])"
   ]
  },
  {
   "cell_type": "code",
   "execution_count": 3,
   "metadata": {},
   "outputs": [],
   "source": [
    "# def fetch_fbp_movie(config, body):\n",
    "    \n",
    "    \n",
    "#     config = deepcopy(config)\n",
    "#     body = deepcopy(body)\n",
    "#     incr = 180\n",
    "    \n",
    "#     config.THETA_MAX = config.THETA_MAX+2*incr\n",
    "#     body.config.THETA_MAX = config.THETA_MAX \n",
    "#     sdf = SDFGt(config, body)\n",
    "#     THETA_MAX = config.THETA_MAX+incr\n",
    "    \n",
    "#     with torch.no_grad():\n",
    "#         from skimage.transform import iradon\n",
    "#         all_thetas = np.linspace(-incr, config.THETA_MAX, config.TOTAL_CLICKS + 2*incr*2)\n",
    "#         gtrenderer = Renderer(config,sdf)\n",
    "#         sinogt = gtrenderer(all_thetas).detach().cpu().numpy()\n",
    "        \n",
    "#     sinogram = sinogt.reshape(config.IMAGE_RESOLUTION, config.TOTAL_CLICKS+ 2*incr*int(config.GANTRY_VIEWS_PER_ROTATION/360))\n",
    "#     reconstruction_fbp = np.zeros((config.IMAGE_RESOLUTION,config.IMAGE_RESOLUTION,config.TOTAL_CLICKS))\n",
    "#     count=0\n",
    "#     for i in tqdm(range(0, config.TOTAL_CLICKS)):\n",
    "#         reconstruction_fbp[...,count] = iradon(sinogram[...,i:i+2*incr], theta = all_thetas[i:i+2*incr],circle=True).T\n",
    "#         count+=1\n",
    "    \n",
    "#     return sinogram, 132*reconstruction_fbp\n"
   ]
  },
  {
   "cell_type": "code",
   "execution_count": 4,
   "metadata": {},
   "outputs": [
    {
     "name": "stderr",
     "output_type": "stream",
     "text": [
      "100%|██████████| 720/720 [00:37<00:00, 19.12it/s]\n"
     ]
    }
   ],
   "source": [
    "sinogram, reconstruction_fbp = fetch_fbp_movie(config, body)"
   ]
  },
  {
   "cell_type": "code",
   "execution_count": 5,
   "metadata": {},
   "outputs": [],
   "source": [
    "# plt.imshow(reconstruction_fbp[...,100])\n",
    "# plt.show()"
   ]
  },
  {
   "cell_type": "code",
   "execution_count": 14,
   "metadata": {},
   "outputs": [],
   "source": [
    "# def find_background_channel(image):\n",
    "    \n",
    "#     assert isinstance(image, np.ndarray) and len(image.shape) == 3\n",
    "    \n",
    "#     total = []\n",
    "#     for i in range(image.shape[2]):\n",
    "#         total.append(np.sum(image[...,i]))\n",
    "        \n",
    "#     return total.index(max(total))\n",
    "\n",
    "# def get_connect_componentes_per_frame(labels, num_components=2):\n",
    "    \n",
    "#     num_components +=1\n",
    "#     component_image = np.zeros((labels.shape[0],labels.shape[1],num_components))\n",
    "    \n",
    "#     for idx in range(num_components):\n",
    "        \n",
    "#         image = (labels==idx).astype('uint8')\n",
    "        \n",
    "#         nb_components, output, stats, centroids = cv2.connectedComponentsWithStats(image, connectivity=4)\n",
    "        \n",
    "#         sizes = stats[:, -1]\n",
    "\n",
    "#         max_label = 1\n",
    "#         max_size = sizes[1]\n",
    "#         for i in range(2, nb_components):\n",
    "#             if sizes[i] > max_size:\n",
    "#                 max_label = i\n",
    "#                 max_size = sizes[i]\n",
    "\n",
    "#         component_image[...,idx] = (output == max_label)\n",
    "        \n",
    "#     background_index = find_background_channel(component_image)\n",
    "    \n",
    "#     component_image = np.delete(component_image,background_index, axis=2).copy()\n",
    "    \n",
    "#     return component_image\n",
    "\n",
    "# def get_n_objects(img, num_components=2):\n",
    "    \n",
    "#     assert isinstance(img, np.ndarray) and len(img.shape) == 3, 'img must be a 3D numpy array'\n",
    "# #     assert isinstance(num_components, int) and num_components >= 2, 'num_components must be a integer more than or equal to 2'\n",
    "\n",
    "#     num_components+=3\n",
    "#     proceed = True\n",
    "#     count = 0\n",
    "#     while proceed and count<3:\n",
    "#         mask = np.random.randint(0,img.shape[2],int(0.02*img.shape[2]))\n",
    "#         X = img[...,mask].reshape(-1,1)\n",
    "#         gm = GaussianMixture(n_components=5, random_state=0).fit(X)\n",
    "#         labels_to_use = np.where(gm.means_[:,0]>0.1)[0]\n",
    "        \n",
    "#         if labels_to_use.shape[0] == num_components-3:\n",
    "#             proceed = False\n",
    "#         else:\n",
    "#             print('Segmentation failed, found labels : {}. Tried {} time'.format(labels_to_use,count+1))\n",
    "#             count+=1\n",
    "            \n",
    "#     labels = np.zeros((img.shape))\n",
    "    \n",
    "#     for i in range(img.shape[2]):\n",
    "#         label_image = np.zeros((img.shape[0],img.shape[1]))\n",
    "#         count=1\n",
    "#         for k in labels_to_use:\n",
    "#             label_image += (gm.predict(reconstruction_fbp[...,i].reshape(-1,1)).reshape(img.shape[0],img.shape[1]) == k)*count\n",
    "#             count+=1\n",
    "#         labels[...,i] = label_image\n",
    "        \n",
    "#     return labels.reshape(img.shape)\n",
    "\n",
    "# def get_n_objects_for_movie(fbp_movie, num_components=2):\n",
    "    \n",
    "#     print(\"Computing Segmentations...\")\n",
    "#     movie = get_n_objects(fbp_movie.copy(),num_components=num_components)\n",
    "#     movie_objects = np.zeros((movie.shape[0],movie.shape[1],movie.shape[2],num_components))\n",
    "#     print(\"Computing connected components...\")\n",
    "#     for i in tqdm(range(movie.shape[2])):\n",
    "#         movie_objects[...,i,:] = get_connect_componentes_per_frame(movie[...,i],num_components=num_components)\n",
    "\n",
    "#     print(\"Computing SDFs...\")\n",
    "#     init = np.zeros((1,num_components))\n",
    "#     for j in tqdm(range(num_components)):\n",
    "#         for i in range(movie.shape[2]):\n",
    "# #             movie_objects[...,i,j] = denoise_tv_chambolle(occ_to_sdf(movie_objects[...,i,j][...,np.newaxis]))[...,0]\n",
    "#             occupancy = np.round(denoise_tv_chambolle(movie_objects[...,i,j][...,np.newaxis], weight=5))\n",
    "#             movie_objects[...,i,j] = denoise_tv_chambolle(occ_to_sdf(occupancy), weight=5)[...,0]\n",
    "            \n",
    "#         img = fbp_movie[...,0]\n",
    "#         test = np.where(occupancy>0.5)#[...,0]\n",
    "# #         print(img.shape, test[0].shape)\n",
    "#         init[0,j] = np.median(img[test[0], test[1]])\n",
    "        \n",
    "#     return movie_objects, init"
   ]
  },
  {
   "cell_type": "code",
   "execution_count": 15,
   "metadata": {},
   "outputs": [],
   "source": [
    "# img, init = get_n_objects_for_movie(reconstruction_fbp,num_components=config.INTENSITIES.shape[1])\n",
    "\n",
    "# print(init)"
   ]
  },
  {
   "cell_type": "code",
   "execution_count": 16,
   "metadata": {},
   "outputs": [],
   "source": [
    "# component_image = get_connect_componentes_per_frame(img[...,100], num_components=3)\n",
    "# movie = img[...,:,1]\n",
    "# # movie = reconstruction_fbp\n",
    "# import os\n",
    "# os.system('rm -r movie/ && mkdir movie')\n",
    "# for i in range(movie.shape[2]):\n",
    "#     plt.imsave('movie/{}.png'.format(i), movie[...,i]>0, cmap='gray')\n",
    "    \n",
    "# os.system('rm movie.zip && zip -r movie.zip movie/')"
   ]
  },
  {
   "cell_type": "code",
   "execution_count": 17,
   "metadata": {},
   "outputs": [
    {
     "name": "stdout",
     "output_type": "stream",
     "text": [
      "1.0000534635872407\n",
      "0.04874449768954798\n"
     ]
    }
   ],
   "source": [
    "# def get_pretraining_sdfs(config, sdf=None):\n",
    "#     if sdf is None:\n",
    "#         pretraining_sdfs = np.zeros((config.IMAGE_RESOLUTION,config.IMAGE_RESOLUTION,config.TOTAL_CLICKS,config.NUM_SDFS))\n",
    "#         for i in range(config.NUM_SDFS):\n",
    "#             cfg = Config(np.array([[np.random.rand()]]), config.TYPE, config.NUM_HEART_BEATS, 1)\n",
    "#             if i ==0:\n",
    "#                 organ = Organ(cfg, [0.6,0.6], 0.1, 0.1, 'simple_sin', 'simple_sin2')\n",
    "#             else:\n",
    "#                 organ = Organ(cfg, [0.3,0.3], 0.1, 0.1, 'simple_sin', 'simple_sin2')\n",
    "# #             organ = Organ(cfg, [np.random.rand()*0.7+0.1,\n",
    "# #                                 np.random.rand()*0.7+0.1], 0.1, 0.1, 'simple_sin', 'simple_sin2')\n",
    "#             body = Body(cfg,[organ])\n",
    "#             sdf = SDFGt(cfg, body)\n",
    "#             all_thetas = np.linspace(0., config.THETA_MAX, config.TOTAL_CLICKS)\n",
    "#             for j in range(config.TOTAL_CLICKS):\n",
    "#                 pretraining_sdfs[...,j,i] = denoise_tv_chambolle(sdf(all_thetas[j])[...,0].detach().cpu().numpy())\n",
    "    \n",
    "#         init = config.INTENSITIES\n",
    "#     elif isinstance(sdf, np.ndarray):\n",
    "#         pretraining_sdfs, init = get_n_objects_for_movie(sdf,num_components=config.NUM_SDFS)\n",
    "        \n",
    "#     else:\n",
    "#         pretraining_sdfs = np.zeros((config.IMAGE_RESOLUTION,config.IMAGE_RESOLUTION,config.TOTAL_CLICKS,config.NUM_SDFS))\n",
    "#         for i in range(config.NUM_SDFS):\n",
    "#             all_thetas = np.linspace(0., config.THETA_MAX, config.TOTAL_CLICKS)\n",
    "#             for j in range(config.TOTAL_CLICKS):\n",
    "#                 pretraining_sdfs[...,j,i] = occ_to_sdf(np.round(denoise_tv_chambolle(sdf_to_occ(sdf(all_thetas[j]))[...,i].detach().cpu().numpy()))[...,np.newaxis])[...,0]\n",
    "        \n",
    "#         init = None\n",
    "#     return pretraining_sdfs, init\n",
    "\n",
    "# pretraining_sdfs, _ = get_pretraining_sdfs(config)\n",
    "# print(np.mean(np.sqrt(np.gradient(pretraining_sdfs,axis=0)**2 + np.gradient(pretraining_sdfs,axis=1)**2)))\n",
    "# print(np.mean(np.abs(np.gradient(pretraining_sdfs,axis=2))))"
   ]
  },
  {
   "cell_type": "code",
   "execution_count": 18,
   "metadata": {},
   "outputs": [
    {
     "name": "stdout",
     "output_type": "stream",
     "text": [
      "tensor(0., device='cuda:0')\n"
     ]
    }
   ],
   "source": [
    "# class FourierFeatures(nn.Module):\n",
    "#     '''\n",
    "#     Learning a function as a fourier series\n",
    "#     Refer: https://colab.research.google.com/github/ndahlquist/pytorch-fourier-feature-networks/blob/master/demo.ipynb#scrollTo=QDs4Im9WTQoy\n",
    "#     '''\n",
    "    \n",
    "#     def __init__(self, input_channels, output_channels, mapping_size = 128, scale=1.5, testing=False):\n",
    "#         super(FourierFeatures, self).__init__()\n",
    "        \n",
    "#         assert isinstance(input_channels, int), 'input_channels must be an integer'\n",
    "#         assert isinstance(output_channels, int), 'output_channels must be an integer'\n",
    "#         assert isinstance(mapping_size, int), 'maping_size must be an integer'\n",
    "#         assert isinstance(scale, float), 'scale must be an float'\n",
    "#         assert isinstance(testing, bool), 'testing should be a bool'\n",
    "        \n",
    "#         self.mapping_size = mapping_size\n",
    "#         self.output_channels = output_channels\n",
    "#         self.testing = testing\n",
    "        \n",
    "#         if self.testing:\n",
    "#             self.B = torch.ones((1, self.mapping_size, self.output_channels))\n",
    "#         else:\n",
    "#             self.B = torch.randn((1, self.mapping_size, self.output_channels))*scale\n",
    "            \n",
    "#         self.B = self.B.cuda()\n",
    "#         self.net = Siren(input_channels,128,3,(2*self.mapping_size+1)*self.output_channels)\n",
    "        \n",
    "#     def forward(self, x, t):\n",
    "        \n",
    "#         assert isinstance(x, torch.Tensor) and len(x.shape) == 2, 'x must be a 2D tensor'\n",
    "#         assert isinstance(t, torch.Tensor) or isinstance(t, float) and t>=-1 and t <=1, 't must be a float between -1 and 1'\n",
    "\n",
    "#         if self.testing:\n",
    "#             fourier_coeffs = torch.ones((x.shape[0],self.mapping_size*2+1, self.output_channels)).type_as(x)\n",
    "#         else:\n",
    "#             fourier_coeffs = self.net(x).view(-1, self.mapping_size*2+1, self.output_channels)\n",
    "            \n",
    "#         fourier_coeffs_dc = fourier_coeffs[:,-1:,:]\n",
    "#         fourier_coeffs_ac = fourier_coeffs[:,:-1,:]\n",
    "        \n",
    "#         assert fourier_coeffs_dc.shape == (x.shape[0], 1, self.output_channels), 'Inavild size for fourier_coeffs_dc : {}'.format(fourier_coeffs_dc.shape)\n",
    "#         assert fourier_coeffs_ac.shape == (x.shape[0], self.mapping_size*2, self.output_channels),  'Inavild size for fourier_coeffs_ac : {}'.format(fourier_coeffs_ac.shape)\n",
    "\n",
    "#         t = (2*np.pi*t*self.B).repeat(x.shape[0],1,1)\n",
    "        \n",
    "#         tsins = torch.cat([torch.sin(t), torch.cos(t)], dim=1).type_as(x)\n",
    "\n",
    "#         assert tsins.shape == (x.shape[0],2*self.mapping_size,self.output_channels)\n",
    "#         series = torch.mul(fourier_coeffs_ac, tsins)\n",
    "#         assert series.shape ==  (x.shape[0],2*self.mapping_size,self.output_channels)\n",
    "#         val_t = torch.mean(series, dim=1, keepdim=True)\n",
    "#         assert val_t.shape == (x.shape[0],1,self.output_channels)\n",
    "#         val_t = val_t + fourier_coeffs_dc\n",
    "#         assert val_t.shape == (x.shape[0],1,self.output_channels)\n",
    "        \n",
    "#         return val_t.squeeze(1)\n",
    "    \n",
    "# ff =  FourierFeatures(2, 2, testing=True).cuda()\n",
    "# x = torch.Tensor([[0.0,0.0],[0.0,1.0],[1.0,0.0],[1.0,1.0]]).cuda()\n",
    "# t = 1.0\n",
    "# val_t = ff(x,t)\n",
    "# print(torch.norm(val_t - 1.5*torch.ones(x.shape).type_as(x)))"
   ]
  },
  {
   "cell_type": "code",
   "execution_count": 19,
   "metadata": {},
   "outputs": [],
   "source": [
    "# class SDFNCT(SDF):\n",
    "#     def __init__(self, config):\n",
    "#         super(SDFNCT, self).__init__()\n",
    "        \n",
    "#         assert isinstance(config, Config), 'config must be an instance of class Config'\n",
    "        \n",
    "#         self.config = config\n",
    "#         x,y = np.meshgrid(np.linspace(0,1,self.config.IMAGE_RESOLUTION),np.linspace(0,1,self.config.IMAGE_RESOLUTION))\n",
    "#         self.pts = torch.autograd.Variable(2*(torch.from_numpy(np.hstack((x.reshape(-1,1),y.reshape(-1,1)))).cuda().float()-0.5),requires_grad=True)\n",
    "        \n",
    "#         self.encoder = Siren(2,256,3,config.NUM_SDFS).cuda()\n",
    "#         self.velocity = FourierFeatures(2,config.NUM_SDFS).cuda()\n",
    "        \n",
    "#     def compute_sdf_t(self, t):\n",
    "#         assert isinstance(t, torch.Tensor) or isinstance(t, float), 't = {} must be a float or a tensor here'.format(t)\n",
    "#         assert t >= -1 and t <= 1, 't = {} is out of range'.format(t)\n",
    "        \n",
    "#         displacement = self.velocity(self.pts, t)\n",
    "#         init_sdf = self.encoder(self.pts)\n",
    "#         assert init_sdf.shape == displacement.shape\n",
    "        \n",
    "#         canvas = (init_sdf + displacement)*self.config.SDF_SCALING\n",
    "#         if not (torch.min(canvas) < -1 and torch.max(canvas) > 1):\n",
    "#             warnings.warn('SDF values are in a narrow range between (-1,1)')\n",
    "            \n",
    "#         canvas = canvas.view(self.config.IMAGE_RESOLUTION,self.config.IMAGE_RESOLUTION,self.config.NUM_SDFS)\n",
    "        \n",
    "#         return canvas\n",
    "            \n",
    "#     def forward(self, t):\n",
    "        \n",
    "#         assert isinstance(t, float), 't = {} must be a float here'.format(t)\n",
    "#         assert t >= -self.config.THETA_MAX and t <= self.config.THETA_MAX, 't = {} is out of range'.format(t)\n",
    "        \n",
    "#         t = 2*get_phase(self.config,t) - 1\n",
    "        \n",
    "#         canvas = self.compute_sdf_t(t)        \n",
    "#         assert len(canvas.shape) == 3, 'Canvas must be a 3D tensor, instead is of shape: {}'.format(canvas.shape)\n",
    "        \n",
    "#         return canvas\n",
    "    \n",
    "#     def grad(self, t):\n",
    "        \n",
    "#         assert isinstance(t, float), 't = {} must be a float here'.format(t)\n",
    "#         assert t >= -self.config.THETA_MAX and t <= self.config.THETA_MAX, 't = {} is out of range'.format(t)\n",
    "        \n",
    "#         t = torch.autograd.Variable(torch.Tensor([2*get_phase(self.config,t) - 1]).cuda().float(),requires_grad=True)\n",
    "        \n",
    "#         canvas = self.compute_sdf_t(t)/self.config.SDF_SCALING\n",
    "        \n",
    "#         dc_dxy = gradient(canvas, self.pts)\n",
    "#         assert len(dc_dxy.shape) == 2, 'Must be a 2D tensor, instead is {}'.format(dc_dxy.shape)\n",
    "\n",
    "#         occupancy = sdf_to_occ(canvas)\n",
    "#         assert len(occupancy.shape) == 3\n",
    "        \n",
    "#         do_dxy = gradient(occupancy, self.pts)\n",
    "#         assert len(do_dxy.shape) == 2, 'Must be a 2D tensor, instead is {}'.format(do_dxy.shape)\n",
    "        \n",
    "#         dc_dt = gradient(canvas, t)/(np.prod(canvas.shape))\n",
    "#         assert len(dc_dt.shape) == 1, 'Must be a 1D tensor, instead is {}'.format(dc_dt.shape)\n",
    "        \n",
    "#         eikonal = torch.abs(torch.norm(dc_dxy, dim=1) - 1).mean()\n",
    "#         total_variation_space = torch.norm(do_dxy, dim=1).mean()\n",
    "#         total_variation_time = torch.abs(dc_dt)\n",
    "        \n",
    "#         return eikonal, total_variation_space, total_variation_time"
   ]
  },
  {
   "cell_type": "code",
   "execution_count": 20,
   "metadata": {},
   "outputs": [],
   "source": [
    "# def pretrain_sdf(config, sdf = None, lr = 1e-4):\n",
    "    \n",
    "\n",
    "#     pretraining_sdfs, init = get_pretraining_sdfs(config, sdf)\n",
    "    \n",
    "#     assert len(pretraining_sdfs.shape) == 4, 'Invalid shape : {}'.format(pretraining_sdfs.shape)\n",
    "#     assert not np.isinf(pretraining_sdfs).any(), 'Contains infinity'\n",
    "    \n",
    "#     sdf = SDFNCT(config)\n",
    "#     gt = torch.from_numpy(pretraining_sdfs).cuda()\n",
    "    \n",
    "#     optimizer = optim.Adam(list(sdf.parameters()), lr = lr)\n",
    "#     scheduler = StepLR(optimizer, step_size=1, gamma=0.95)\n",
    "    \n",
    "#     for itr in range(1000):\n",
    "#         optimizer.zero_grad()\n",
    "#         t = np.random.randint(0,config.TOTAL_CLICKS,1)[0]\n",
    "#         theta = t*(config.THETA_MAX/config.TOTAL_CLICKS)\n",
    "        \n",
    "#         pred = sdf(theta)\n",
    "#         target = gt[...,t,:]\n",
    "#         assert target.shape == pred.shape, 'target has shape : {} while prediction has shape :{}'.format(target.shape, pred.shape)\n",
    "#         eikonal, _, _ = sdf.grad(theta)\n",
    "\n",
    "#         loss1 = torch.abs(pred - target).mean()\n",
    "#         loss = loss1 + 0.1*eikonal\n",
    "#         loss.backward()\n",
    "#         optimizer.step()\n",
    "        \n",
    "#         if itr %200 == 0:\n",
    "#             print('itr: {}, loss: {:.4f}, lossP: {:.4f}, lossE: {:.4f}, lr: {:.4f}'.format(itr, loss.item(), loss1.item(), \n",
    "#                                                                                            eikonal.item(),scheduler.get_last_lr()[0]*10**4))\n",
    "#             scheduler.step()\n",
    "            \n",
    "#     return sdf, init"
   ]
  },
  {
   "cell_type": "code",
   "execution_count": 21,
   "metadata": {
    "scrolled": true
   },
   "outputs": [
    {
     "name": "stdout",
     "output_type": "stream",
     "text": [
      "Computing Segmentations...\n"
     ]
    },
    {
     "name": "stderr",
     "output_type": "stream",
     "text": [
      " 13%|█▎        | 96/720 [00:00<00:00, 956.56it/s]"
     ]
    },
    {
     "name": "stdout",
     "output_type": "stream",
     "text": [
      "Computing connected components...\n"
     ]
    },
    {
     "name": "stderr",
     "output_type": "stream",
     "text": [
      "100%|██████████| 720/720 [00:00<00:00, 1211.42it/s]\n",
      "  0%|          | 0/1 [00:00<?, ?it/s]"
     ]
    },
    {
     "name": "stdout",
     "output_type": "stream",
     "text": [
      "Computing SDFs...\n"
     ]
    },
    {
     "name": "stderr",
     "output_type": "stream",
     "text": [
      "100%|██████████| 1/1 [00:46<00:00, 46.43s/it]\n"
     ]
    },
    {
     "name": "stdout",
     "output_type": "stream",
     "text": [
      "itr: 0, loss: 36.0792, lossP: 36.0301, lossE: 0.4904, lr: 1.0000\n"
     ]
    },
    {
     "name": "stderr",
     "output_type": "stream",
     "text": [
      "/opt/conda/lib/python3.7/site-packages/ipykernel_launcher.py:24: UserWarning: SDF values are in a narrow range between (-1,1)\n"
     ]
    },
    {
     "name": "stdout",
     "output_type": "stream",
     "text": [
      "itr: 200, loss: 2.2138, lossP: 2.1825, lossE: 0.3137, lr: 0.9500\n",
      "itr: 400, loss: 0.8610, lossP: 0.8306, lossE: 0.3040, lr: 0.9025\n",
      "itr: 600, loss: 0.8708, lossP: 0.8401, lossE: 0.3070, lr: 0.8574\n",
      "itr: 800, loss: 0.8775, lossP: 0.8459, lossE: 0.3162, lr: 0.8145\n",
      "[[0.51333346]]\n"
     ]
    }
   ],
   "source": [
    "sdf, init = pretrain_sdf(config,reconstruction_fbp)\n",
    "# sdf, init = pretrain_sdf(config)\n",
    "print(init)"
   ]
  },
  {
   "cell_type": "code",
   "execution_count": 22,
   "metadata": {},
   "outputs": [
    {
     "data": {
      "image/png": "[encoded data removed]",
      "text/plain": [
       "<Figure size 432x288 with 1 Axes>"
      ]
     },
     "metadata": {
      "needs_background": "light"
     },
     "output_type": "display_data"
    }
   ],
   "source": [
    "# def get_sinogram(config, sdf):\n",
    "#     renderer = Renderer(config, sdf)\n",
    "#     all_thetas = np.linspace(0,config.THETA_MAX, config.TOTAL_CLICKS)\n",
    "#     sinogram = renderer.forward(all_thetas).detach().cpu().numpy()\n",
    "    \n",
    "#     return sinogram\n",
    "# def get_sinogram(config, sdf, intensities):\n",
    "#     renderer = Renderer(config, sdf,intensities)\n",
    "#     all_thetas = np.linspace(0,config.THETA_MAX, config.TOTAL_CLICKS)\n",
    "#     sinogram = renderer.forward(all_thetas).detach().cpu().numpy()\n",
    "    \n",
    "#     return sinogram\n",
    "\n",
    "gt_sinogram = torch.from_numpy(get_sinogram(config, SDFGt(config, body),Intensities(config, learnable = False))).cuda()\n",
    "plt.imshow(gt_sinogram.detach().cpu().numpy(),cmap='gray')\n",
    "plt.show()"
   ]
  },
  {
   "cell_type": "code",
   "execution_count": 23,
   "metadata": {},
   "outputs": [],
   "source": [
    "# class Intensities(nn.Module):\n",
    "#     def __init__(self, config, learnable = False, init = np.array([0.3,0.5])):\n",
    "#         super(Intensities, self).__init__()\n",
    "#         assert isinstance(config, Config), 'config must be an instance of class Config'\n",
    "        \n",
    "#         if learnable:\n",
    "#             self.inty = torch.nn.Parameter(torch.from_numpy(init).view(1,1,-1)) \n",
    "#         else:\n",
    "#             self.inty = 0*torch.from_numpy(config.INTENSITIES).view(1,1,-1)\n",
    "        \n",
    "#         self.config = config\n",
    "#         self.default = torch.from_numpy(config.INTENSITIES).view(1,1,-1)\n",
    "        \n",
    "#     def forward(self):    \n",
    "#         residual = torch.clamp(self.inty, -1, 1)*0.05\n",
    "        \n",
    "#         return self.default + residual\n",
    "    \n",
    "# class Renderer(nn.Module):\n",
    "#     def __init__(self, config, sdf, intensities):\n",
    "#         super(Renderer, self).__init__()\n",
    "        \n",
    "#         assert isinstance(config, Config), 'config must be an instance of class Config'\n",
    "#         assert isinstance(sdf, SDF), 'sdf must be an instance of class SDF'\n",
    "        \n",
    "#         self.config = config\n",
    "#         self.sdf = sdf\n",
    "#         self.intensities = intensities\n",
    "            \n",
    "#     def snapshot(self,t):\n",
    "#         '''\n",
    "#         Rotates the canvas at a particular angle and calculates the intensity\n",
    "#         '''\n",
    "#         assert isinstance(t, float), 't = {} must be a float here'.format(t)\n",
    "#         assert t >= -self.config.THETA_MAX and t <= self.config.THETA_MAX, 't = {} is out of range'.format(t)\n",
    "        \n",
    "#         rotM = kornia.get_rotation_matrix2d(torch.Tensor([[self.config.IMAGE_RESOLUTION/2,self.config.IMAGE_RESOLUTION/2]]), torch.Tensor([t]) , torch.ones(1)).cuda()\n",
    "        \n",
    "#         canvas = sdf_to_occ(self.sdf(t))\n",
    "# #         canvas = torch.sum(self.intensities(canvas).type_as(canvas),dim=2)\n",
    "#         canvas = torch.sum(canvas*self.intensities().type_as(canvas),dim=2)\n",
    "\n",
    "#         assert canvas.shape == (self.config.IMAGE_RESOLUTION,self.config.IMAGE_RESOLUTION)\n",
    "        \n",
    "#         canvas = kornia.warp_affine(canvas.unsqueeze(0).unsqueeze(1).cuda(), rotM, dsize=(self.config.IMAGE_RESOLUTION, self.config.IMAGE_RESOLUTION)).view(self.config.IMAGE_RESOLUTION,self.config.IMAGE_RESOLUTION)\n",
    "\n",
    "#         result = (torch.sum(canvas, axis=1)/self.config.IMAGE_RESOLUTION)\n",
    "        \n",
    "#         assert len(result.shape) ==1, 'result has shape :{} instead should be a 1D array'.format(result.shape)\n",
    "#         return result\n",
    "        \n",
    "#     def forward(self, all_thetas):\n",
    "        \n",
    "#         assert isinstance(all_thetas, np.ndarray) and len(all_thetas.shape) ==1, 'all_thetas must be a 1D numpy array of integers'\n",
    "#         assert all_thetas.dtype == float, 'all_thetas must be a float, instead is : {}'.format(all_thetas.dtype)\n",
    "#         assert all(abs(t) <= self.config.THETA_MAX for t in all_thetas), 'all_theta is out of range'.format(all_thetas)\n",
    "#         self.intensity = torch.zeros((self.config.IMAGE_RESOLUTION, all_thetas.shape[0])).cuda()\n",
    "#         for i, theta in enumerate(all_thetas):\n",
    "#             self.intensity[:,i] = self.snapshot(theta)\n",
    "            \n",
    "#         return self.intensity\n",
    "    \n",
    "#     def compute_rigid_fbp(self, x, all_thetas):\n",
    "#         '''\n",
    "#         Computes the filtered back projection assuming rigid bodies\n",
    "#         '''\n",
    "#         assert isinstance(x, np.ndarray) and len(x.shape) == 2, 'x must be a 2D numpy array'\n",
    "#         assert isinstance(x, np.ndarray) and len(all_thetas.shape) == 1, 'all_thetas must be a 1D numpy array'\n",
    "#         assert all_thetas.shape[0] == x.shape[1], 'number of angles are not equal to the number of sinogram projections!'\n",
    "\n",
    "#         return iradon(x, theta=all_thetas,circle=True)"
   ]
  },
  {
   "cell_type": "code",
   "execution_count": 25,
   "metadata": {},
   "outputs": [],
   "source": [
    "# def train(config, sdf, gt_sinogram, lr=1e-4, init = np.array([0.25,0.82])):\n",
    "        \n",
    "#     intensities = Intensities(config, learnable = False, init = init)\n",
    "#     renderer = Renderer(config, sdf,intensities)\n",
    "#     optimizer = optim.Adam(list(sdf.parameters()), lr = lr)\n",
    "# #     optimizer2 = optim.Adam(list(intensities.parameters()), lr = 1e-4)\n",
    "#     scheduler = StepLR(optimizer, step_size=1, gamma=0.95)\n",
    "    \n",
    "#     for itr in range(1000):\n",
    "#         optimizer.zero_grad()\n",
    "# #         optimizer2.zero_grad()\n",
    "#         t = np.random.randint(0,config.TOTAL_CLICKS,config.BATCH_SIZE)\n",
    "#         theta = t*(config.THETA_MAX/config.TOTAL_CLICKS)\n",
    "#         pred = renderer(theta)\n",
    "#         target = gt_sinogram[:,t]\n",
    "#         loss1 = torch.abs(pred - target).mean()*100\n",
    "        \n",
    "#         eikonal, total_variation_space, total_variation_time = sdf.grad(theta[0])\n",
    "#         assert target.shape == pred.shape, 'target has shape : {} while prediction has shape :{}'.format(target.shape, pred.shape)\n",
    "        \n",
    "#         loss = loss1 + 0.1*eikonal + 0.01*total_variation_space + 0.01*total_variation_time\n",
    "        \n",
    "#         loss.backward()\n",
    "#         optimizer.step()\n",
    "# #         optimizer2.step()\n",
    "        \n",
    "#         if itr %200 == 0:\n",
    "#             print('itr: {}, loss: {:.4f}, lossP: {:.4f}, lossE: {:.4f}, lossTVs: {:.4f}, lossTVt: {:.4f}, lr: {:.4f}'.format(itr, loss.item(), loss1.item(), eikonal.item(), \n",
    "#                                      total_variation_space.item(), total_variation_time.item(),scheduler.get_last_lr()[0]*10**4))\n",
    "#             scheduler.step()\n",
    "            \n",
    "#         if loss1.item() < 0.08:\n",
    "#             break\n",
    "            \n",
    "#     return sdf, intensities\n",
    "# #         break\n",
    "        "
   ]
  },
  {
   "cell_type": "code",
   "execution_count": null,
   "metadata": {
    "scrolled": true
   },
   "outputs": [
    {
     "name": "stdout",
     "output_type": "stream",
     "text": [
      "itr: 0, loss: 1.8686, lossP: 1.8325, lossE: 0.3112, lossTVs: 0.4628, lossTVt: 0.0382, lr: 1.0000\n",
      "itr: 200, loss: 0.2739, lossP: 0.2242, lossE: 0.3971, lossTVs: 0.8558, lossTVt: 0.1400, lr: 0.9500\n",
      "itr: 400, loss: 0.2385, lossP: 0.1935, lossE: 0.3702, lossTVs: 0.5502, lossTVt: 0.2470, lr: 0.9025\n"
     ]
    }
   ],
   "source": [
    "sdf,intensities = train(config, sdf, gt_sinogram, init=init)\n",
    "# sdf, _ = pretrain_sdf(config, sdf, lr = 1e-5)\n",
    "# sdf,intensities  = train(config, sdf, gt_sinogram, lr=1e-5, init=init)"
   ]
  },
  {
   "cell_type": "code",
   "execution_count": null,
   "metadata": {},
   "outputs": [],
   "source": [
    "intensities.inty"
   ]
  },
  {
   "cell_type": "code",
   "execution_count": 18,
   "metadata": {},
   "outputs": [
    {
     "data": {
      "image/png": "[encoded data removed]",
      "text/plain": [
       "<Figure size 432x288 with 1 Axes>"
      ]
     },
     "metadata": {
      "needs_background": "light"
     },
     "output_type": "display_data"
    },
    {
     "data": {
      "image/png": "[encoded data removed]",
      "text/plain": [
       "<Figure size 432x288 with 1 Axes>"
      ]
     },
     "metadata": {
      "needs_background": "light"
     },
     "output_type": "display_data"
    }
   ],
   "source": [
    "with torch.no_grad():\n",
    "    sinogram = get_sinogram(config, sdf,intensities)\n",
    "    \n",
    "%matplotlib inline\n",
    "plt.imshow(sinogram,cmap='gray')\n",
    "plt.show()\n",
    "plt.figure()\n",
    "plt.imshow(gt_sinogram.detach().cpu().numpy(),cmap='gray')\n",
    "plt.show()"
   ]
  },
  {
   "cell_type": "code",
   "execution_count": 22,
   "metadata": {},
   "outputs": [],
   "source": [
    "# def fetch_movie(config, sdf):\n",
    "#     frames = np.zeros((config.IMAGE_RESOLUTION,config.IMAGE_RESOLUTION,config.TOTAL_CLICKS,config.NUM_SDFS))\n",
    "#     for i in range(config.NUM_SDFS):\n",
    "#         all_thetas = np.linspace(0., config.THETA_MAX, config.TOTAL_CLICKS)\n",
    "#         for j in range(config.TOTAL_CLICKS):\n",
    "#             frames[...,j,i] = sdf_to_occ(sdf(all_thetas[j]))[...,i].detach().cpu().numpy()\n",
    "            \n",
    "#     intensities = config.INTENSITIES.reshape(1,1,1,-1)\n",
    "#     movie = np.sum(frames*intensities, axis=3)\n",
    "    \n",
    "#     return movie       "
   ]
  },
  {
   "cell_type": "code",
   "execution_count": 23,
   "metadata": {},
   "outputs": [],
   "source": [
    "movie = fetch_movie(config, sdf)"
   ]
  },
  {
   "cell_type": "code",
   "execution_count": 24,
   "metadata": {},
   "outputs": [
    {
     "data": {
      "text/plain": [
       "0"
      ]
     },
     "execution_count": 24,
     "metadata": {},
     "output_type": "execute_result"
    }
   ],
   "source": [
    "import os\n",
    "os.system('rm -r movie/ && mkdir movie')\n",
    "for i in range(movie.shape[2]):\n",
    "    plt.imsave('movie/{}.png'.format(i), movie[...,i], cmap='gray')\n",
    "os.system('rm movie.zip && zip -r movie.zip movie/')"
   ]
  },
  {
   "cell_type": "code",
   "execution_count": 19,
   "metadata": {},
   "outputs": [],
   "source": [
    "img = sdf(100.0).detach().cpu().numpy()"
   ]
  },
  {
   "cell_type": "code",
   "execution_count": 21,
   "metadata": {},
   "outputs": [
    {
     "data": {
      "image/png": "[encoded data removed]",
      "text/plain": [
       "<Figure size 432x288 with 1 Axes>"
      ]
     },
     "metadata": {
      "needs_background": "light"
     },
     "output_type": "display_data"
    }
   ],
   "source": [
    "%matplotlib inline\n",
    "# plt.imshow(movie[...,0],cmap='gray')\n",
    "plt.imshow(img[...,0]>0)\n",
    "plt.show()"
   ]
  },
  {
   "cell_type": "code",
   "execution_count": 37,
   "metadata": {},
   "outputs": [
    {
     "data": {
      "text/plain": [
       "(128, 128, 2)"
      ]
     },
     "execution_count": 37,
     "metadata": {},
     "output_type": "execute_result"
    }
   ],
   "source": [
    "# movie[80,80,0]\n"
   ]
  },
  {
   "cell_type": "code",
   "execution_count": null,
   "metadata": {},
   "outputs": [],
   "source": []
  }
 ],
 "metadata": {
  "kernelspec": {
   "display_name": "Python 3",
   "language": "python",
   "name": "python3"
  },
  "language_info": {
   "codemirror_mode": {
    "name": "ipython",
    "version": 3
   },
   "file_extension": ".py",
   "mimetype": "text/x-python",
   "name": "python",
   "nbconvert_exporter": "python",
   "pygments_lexer": "ipython3",
   "version": "3.7.3"
  }
 },
 "nbformat": 4,
 "nbformat_minor": 4
}
